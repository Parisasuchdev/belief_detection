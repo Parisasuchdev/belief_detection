{
 "cells": [
  {
   "cell_type": "code",
   "execution_count": 5,
   "metadata": {},
   "outputs": [],
   "source": [
    "from convokit import Corpus, download\n",
    "import random\n",
    "import json"
   ]
  },
  {
   "cell_type": "code",
   "execution_count": 6,
   "metadata": {},
   "outputs": [
    {
     "name": "stdout",
     "output_type": "stream",
     "text": [
      "Dataset already exists at /gpfs1/home/p/s/psuchdev/.convokit/downloads/reddit-corpus-small\n",
      "Data saved to data/reddit_samples_5k.json\n"
     ]
    }
   ],
   "source": [
    "corpus = Corpus(filename=download(\"reddit-corpus-small\"))\n",
    "utterances = list(corpus.iter_utterances())\n",
    "sample_size = min(5000, len(utterances))\n",
    "random.seed(42)  # magic number\n",
    "sampled_utterances = random.sample(utterances, sample_size)\n",
    "\n",
    "def convert_utterance(utt):\n",
    "    return {'id': utt.id, 'text': utt.text}\n",
    "\n",
    "samples_list = [convert_utterance(utt) for utt in sampled_utterances]\n",
    "\n",
    "def save_as_json(data, filename):\n",
    "    with open(filename, 'w') as file:\n",
    "        json.dump(data, file, indent=4)\n",
    "    print(f\"Data saved to {filename}\")\n",
    "\n",
    "save_as_json(samples_list, '..raw/reddit_samples_5k.json')"
   ]
  },
  {
   "cell_type": "code",
   "execution_count": null,
   "metadata": {},
   "outputs": [],
   "source": []
  }
 ],
 "metadata": {
  "kernelspec": {
   "display_name": "llama_env",
   "language": "python",
   "name": "python3"
  },
  "language_info": {
   "codemirror_mode": {
    "name": "ipython",
    "version": 3
   },
   "file_extension": ".py",
   "mimetype": "text/x-python",
   "name": "python",
   "nbconvert_exporter": "python",
   "pygments_lexer": "ipython3",
   "version": "3.9.18"
  }
 },
 "nbformat": 4,
 "nbformat_minor": 2
}
