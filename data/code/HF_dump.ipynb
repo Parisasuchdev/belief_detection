{
 "cells": [
  {
   "cell_type": "code",
   "execution_count": 6,
   "id": "04467e26-606c-4e8f-94c1-55ffd6651b90",
   "metadata": {},
   "outputs": [],
   "source": [
    "from huggingface_hub import login\n",
    "from datasets import Dataset\n",
    "import pandas as pd\n"
   ]
  },
  {
   "cell_type": "code",
   "execution_count": 7,
   "id": "f2a6b584-ad2c-4829-b2df-7b4ca5d207ed",
   "metadata": {},
   "outputs": [
    {
     "data": {
      "text/html": [
       "<div>\n",
       "<style scoped>\n",
       "    .dataframe tbody tr th:only-of-type {\n",
       "        vertical-align: middle;\n",
       "    }\n",
       "\n",
       "    .dataframe tbody tr th {\n",
       "        vertical-align: top;\n",
       "    }\n",
       "\n",
       "    .dataframe thead th {\n",
       "        text-align: right;\n",
       "    }\n",
       "</style>\n",
       "<table border=\"1\" class=\"dataframe\">\n",
       "  <thead>\n",
       "    <tr style=\"text-align: right;\">\n",
       "      <th></th>\n",
       "      <th>id</th>\n",
       "      <th>output</th>\n",
       "      <th>input</th>\n",
       "    </tr>\n",
       "  </thead>\n",
       "  <tbody>\n",
       "    <tr>\n",
       "      <th>0</th>\n",
       "      <td>bvcuvqhsvg5</td>\n",
       "      <td>non-belief</td>\n",
       "      <td>Quantum Entanglement babyyy</td>\n",
       "    </tr>\n",
       "    <tr>\n",
       "      <th>1</th>\n",
       "      <td>fqjavdtue4j</td>\n",
       "      <td>non-belief</td>\n",
       "      <td>Good catch. Updated the description: Yes for V...</td>\n",
       "    </tr>\n",
       "    <tr>\n",
       "      <th>2</th>\n",
       "      <td>aig292awtb6</td>\n",
       "      <td>non-belief</td>\n",
       "      <td>All of our ingredients are ethically sourced.</td>\n",
       "    </tr>\n",
       "    <tr>\n",
       "      <th>3</th>\n",
       "      <td>567lbqb2dyp</td>\n",
       "      <td>belief</td>\n",
       "      <td>seems right:</td>\n",
       "    </tr>\n",
       "    <tr>\n",
       "      <th>4</th>\n",
       "      <td>t04x2msdwls</td>\n",
       "      <td>non-belief</td>\n",
       "      <td>to the moon</td>\n",
       "    </tr>\n",
       "    <tr>\n",
       "      <th>...</th>\n",
       "      <td>...</td>\n",
       "      <td>...</td>\n",
       "      <td>...</td>\n",
       "    </tr>\n",
       "    <tr>\n",
       "      <th>208</th>\n",
       "      <td>n1jkpjv22nh</td>\n",
       "      <td>non-belief</td>\n",
       "      <td>Hmm, so at any point in time, you should bet w...</td>\n",
       "    </tr>\n",
       "    <tr>\n",
       "      <th>209</th>\n",
       "      <td>9w05in4ztwn</td>\n",
       "      <td>non-belief</td>\n",
       "      <td>this market is now effectively, will he rejoin...</td>\n",
       "    </tr>\n",
       "    <tr>\n",
       "      <th>210</th>\n",
       "      <td>idwfxff0jp</td>\n",
       "      <td>non-belief</td>\n",
       "      <td>You missed one!</td>\n",
       "    </tr>\n",
       "    <tr>\n",
       "      <th>211</th>\n",
       "      <td>jz4gkba277c</td>\n",
       "      <td>non-belief</td>\n",
       "      <td>Christopher Hope of GB News says that Reform U...</td>\n",
       "    </tr>\n",
       "    <tr>\n",
       "      <th>212</th>\n",
       "      <td>f7ijp9m6k6u</td>\n",
       "      <td>belief</td>\n",
       "      <td>I stay sane by appreciating the little things ...</td>\n",
       "    </tr>\n",
       "  </tbody>\n",
       "</table>\n",
       "<p>213 rows × 3 columns</p>\n",
       "</div>"
      ],
      "text/plain": [
       "              id      output  \\\n",
       "0    bvcuvqhsvg5  non-belief   \n",
       "1    fqjavdtue4j  non-belief   \n",
       "2    aig292awtb6  non-belief   \n",
       "3    567lbqb2dyp      belief   \n",
       "4    t04x2msdwls  non-belief   \n",
       "..           ...         ...   \n",
       "208  n1jkpjv22nh  non-belief   \n",
       "209  9w05in4ztwn  non-belief   \n",
       "210   idwfxff0jp  non-belief   \n",
       "211  jz4gkba277c  non-belief   \n",
       "212  f7ijp9m6k6u      belief   \n",
       "\n",
       "                                                 input  \n",
       "0                          Quantum Entanglement babyyy  \n",
       "1    Good catch. Updated the description: Yes for V...  \n",
       "2        All of our ingredients are ethically sourced.  \n",
       "3                                         seems right:  \n",
       "4                                          to the moon  \n",
       "..                                                 ...  \n",
       "208  Hmm, so at any point in time, you should bet w...  \n",
       "209  this market is now effectively, will he rejoin...  \n",
       "210                                    You missed one!  \n",
       "211  Christopher Hope of GB News says that Reform U...  \n",
       "212  I stay sane by appreciating the little things ...  \n",
       "\n",
       "[213 rows x 3 columns]"
      ]
     },
     "execution_count": 7,
     "metadata": {},
     "output_type": "execute_result"
    }
   ],
   "source": [
    "\n",
    "df_csv_mani = pd.read_csv('../annotated/manifold_annotated.csv', usecols=['id', 'text', 'sentiment'])\n",
    "df_csv_mani.rename(columns={'text':'input', 'sentiment': 'output'}, inplace=True)\n",
    "df_csv_mani"
   ]
  },
  {
   "cell_type": "code",
   "execution_count": 8,
   "id": "3453c705-1770-4c51-b892-666cc63768ec",
   "metadata": {},
   "outputs": [],
   "source": [
    "dataset_mani = Dataset.from_pandas(df_csv_mani)"
   ]
  },
  {
   "cell_type": "code",
   "execution_count": 9,
   "id": "c87fdd3c-908c-4a30-b501-e0c399119b62",
   "metadata": {},
   "outputs": [
    {
     "data": {
      "application/vnd.jupyter.widget-view+json": {
       "model_id": "91e17aafe875489e9d8e62d67c654e1e",
       "version_major": 2,
       "version_minor": 0
      },
      "text/plain": [
       "Uploading the dataset shards:   0%|          | 0/1 [00:00<?, ?it/s]"
      ]
     },
     "metadata": {},
     "output_type": "display_data"
    },
    {
     "data": {
      "application/vnd.jupyter.widget-view+json": {
       "model_id": "428163c949574a1792fa96572a1ae317",
       "version_major": 2,
       "version_minor": 0
      },
      "text/plain": [
       "Creating parquet from Arrow format:   0%|          | 0/1 [00:00<?, ?ba/s]"
      ]
     },
     "metadata": {},
     "output_type": "display_data"
    },
    {
     "data": {
      "application/vnd.jupyter.widget-view+json": {
       "model_id": "98ec4f8acf834d61a4de8b0c7292c065",
       "version_major": 2,
       "version_minor": 0
      },
      "text/plain": [
       "README.md:   0%|          | 0.00/334 [00:00<?, ?B/s]"
      ]
     },
     "metadata": {},
     "output_type": "display_data"
    }
   ],
   "source": [
    "dataset_mani.push_to_hub(\"parisachdev/train\")"
   ]
  },
  {
   "cell_type": "code",
   "execution_count": 10,
   "id": "c9f9c903-6594-4960-a205-8aaf0e32f06b",
   "metadata": {},
   "outputs": [
    {
     "data": {
      "text/plain": [
       "Dataset({\n",
       "    features: ['id', 'output', 'input'],\n",
       "    num_rows: 213\n",
       "})"
      ]
     },
     "execution_count": 10,
     "metadata": {},
     "output_type": "execute_result"
    }
   ],
   "source": [
    "dataset_mani"
   ]
  },
  {
   "cell_type": "code",
   "execution_count": 12,
   "id": "2aaccfa9-16c9-4071-9fcf-3b3a391f45cb",
   "metadata": {},
   "outputs": [],
   "source": [
    "json_data = df_csv_mani.to_json(orient='records')\n",
    "with open('../annotated/manifold_annotated.json', 'w') as json_file:\n",
    "    json_file.write(json_data)"
   ]
  },
  {
   "cell_type": "markdown",
   "id": "818ea34d",
   "metadata": {},
   "source": [
    "## Dumping reddit dataset to hugging face"
   ]
  },
  {
   "cell_type": "markdown",
   "id": "aef9f7a4",
   "metadata": {},
   "source": []
  },
  {
   "cell_type": "code",
   "execution_count": 14,
   "id": "e34f1e9e",
   "metadata": {},
   "outputs": [
    {
     "data": {
      "text/html": [
       "<div>\n",
       "<style scoped>\n",
       "    .dataframe tbody tr th:only-of-type {\n",
       "        vertical-align: middle;\n",
       "    }\n",
       "\n",
       "    .dataframe tbody tr th {\n",
       "        vertical-align: top;\n",
       "    }\n",
       "\n",
       "    .dataframe thead th {\n",
       "        text-align: right;\n",
       "    }\n",
       "</style>\n",
       "<table border=\"1\" class=\"dataframe\">\n",
       "  <thead>\n",
       "    <tr style=\"text-align: right;\">\n",
       "      <th></th>\n",
       "      <th>id</th>\n",
       "      <th>output</th>\n",
       "      <th>input</th>\n",
       "    </tr>\n",
       "  </thead>\n",
       "  <tbody>\n",
       "    <tr>\n",
       "      <th>0</th>\n",
       "      <td>e651y5k</td>\n",
       "      <td>belief</td>\n",
       "      <td>You're just privileged</td>\n",
       "    </tr>\n",
       "    <tr>\n",
       "      <th>1</th>\n",
       "      <td>e59xkgh</td>\n",
       "      <td>belief</td>\n",
       "      <td>I wasn't saying that it was weird, I was just ...</td>\n",
       "    </tr>\n",
       "    <tr>\n",
       "      <th>2</th>\n",
       "      <td>e6v3h7b</td>\n",
       "      <td>non-belief</td>\n",
       "      <td>The 30 shekels Judas received would have been ...</td>\n",
       "    </tr>\n",
       "    <tr>\n",
       "      <th>3</th>\n",
       "      <td>e6ob8z7</td>\n",
       "      <td>belief</td>\n",
       "      <td>Literally nothing is taken away from Solaires ...</td>\n",
       "    </tr>\n",
       "    <tr>\n",
       "      <th>4</th>\n",
       "      <td>e6i9vz5</td>\n",
       "      <td>non-belief</td>\n",
       "      <td>Well I used to work as a store clerk so I gues...</td>\n",
       "    </tr>\n",
       "    <tr>\n",
       "      <th>...</th>\n",
       "      <td>...</td>\n",
       "      <td>...</td>\n",
       "      <td>...</td>\n",
       "    </tr>\n",
       "    <tr>\n",
       "      <th>110</th>\n",
       "      <td>e674ozh</td>\n",
       "      <td>non-belief</td>\n",
       "      <td>CA, GA, &amp;amp; ID\\n\\n[URL]</td>\n",
       "    </tr>\n",
       "    <tr>\n",
       "      <th>111</th>\n",
       "      <td>e6abc0t</td>\n",
       "      <td>non-belief</td>\n",
       "      <td>Another Spokanite checking in</td>\n",
       "    </tr>\n",
       "    <tr>\n",
       "      <th>112</th>\n",
       "      <td>e6porpm</td>\n",
       "      <td>non-belief</td>\n",
       "      <td>at least u learnt it now!!! no more heartbreaks!</td>\n",
       "    </tr>\n",
       "    <tr>\n",
       "      <th>113</th>\n",
       "      <td>e6dulji</td>\n",
       "      <td>belief</td>\n",
       "      <td>My 50 years later line was simply to emphasize...</td>\n",
       "    </tr>\n",
       "    <tr>\n",
       "      <th>114</th>\n",
       "      <td>e65d3oh</td>\n",
       "      <td>non-belief</td>\n",
       "      <td>I know. Kanye didnt blow up until 2004. Lil Wa...</td>\n",
       "    </tr>\n",
       "  </tbody>\n",
       "</table>\n",
       "<p>115 rows × 3 columns</p>\n",
       "</div>"
      ],
      "text/plain": [
       "          id      output                                              input\n",
       "0    e651y5k      belief                             You're just privileged\n",
       "1    e59xkgh      belief  I wasn't saying that it was weird, I was just ...\n",
       "2    e6v3h7b  non-belief  The 30 shekels Judas received would have been ...\n",
       "3    e6ob8z7      belief  Literally nothing is taken away from Solaires ...\n",
       "4    e6i9vz5  non-belief  Well I used to work as a store clerk so I gues...\n",
       "..       ...         ...                                                ...\n",
       "110  e674ozh  non-belief                          CA, GA, &amp; ID\\n\\n[URL]\n",
       "111  e6abc0t  non-belief                      Another Spokanite checking in\n",
       "112  e6porpm  non-belief   at least u learnt it now!!! no more heartbreaks!\n",
       "113  e6dulji      belief  My 50 years later line was simply to emphasize...\n",
       "114  e65d3oh  non-belief  I know. Kanye didnt blow up until 2004. Lil Wa...\n",
       "\n",
       "[115 rows x 3 columns]"
      ]
     },
     "execution_count": 14,
     "metadata": {},
     "output_type": "execute_result"
    }
   ],
   "source": [
    "\n",
    "df_csv_reddit = pd.read_csv('../annotated/reddit_annotated.csv', usecols=['id', 'text', 'sentiment'])\n",
    "df_csv_reddit.rename(columns={'text':'input', 'sentiment': 'output'}, inplace=True)\n",
    "df_csv_reddit"
   ]
  },
  {
   "cell_type": "code",
   "execution_count": 15,
   "id": "9861c218",
   "metadata": {},
   "outputs": [],
   "source": [
    "dataset_reddit = Dataset.from_pandas(df_csv_reddit)"
   ]
  },
  {
   "cell_type": "code",
   "execution_count": 16,
   "id": "1b8074ca",
   "metadata": {},
   "outputs": [
    {
     "data": {
      "application/vnd.jupyter.widget-view+json": {
       "model_id": "3e75356f86a141889a03baa9c99e8b7a",
       "version_major": 2,
       "version_minor": 0
      },
      "text/plain": [
       "Uploading the dataset shards:   0%|          | 0/1 [00:00<?, ?it/s]"
      ]
     },
     "metadata": {},
     "output_type": "display_data"
    },
    {
     "data": {
      "application/vnd.jupyter.widget-view+json": {
       "model_id": "3148f1c9ab4a4f018e17645520db6bd5",
       "version_major": 2,
       "version_minor": 0
      },
      "text/plain": [
       "Creating parquet from Arrow format:   0%|          | 0/1 [00:00<?, ?ba/s]"
      ]
     },
     "metadata": {},
     "output_type": "display_data"
    }
   ],
   "source": [
    "dataset_reddit.push_to_hub(\"parisachdev/reddit\")"
   ]
  },
  {
   "cell_type": "code",
   "execution_count": 17,
   "id": "8a894667",
   "metadata": {},
   "outputs": [
    {
     "data": {
      "text/plain": [
       "Dataset({\n",
       "    features: ['id', 'output', 'input'],\n",
       "    num_rows: 115\n",
       "})"
      ]
     },
     "execution_count": 17,
     "metadata": {},
     "output_type": "execute_result"
    }
   ],
   "source": [
    "dataset_reddit"
   ]
  },
  {
   "cell_type": "code",
   "execution_count": 18,
   "id": "b3fff7c4",
   "metadata": {},
   "outputs": [],
   "source": [
    "json_data = df_csv_reddit.to_json(orient='records')\n",
    "with open('../annotated/reddit_annotated.json', 'w') as json_file:\n",
    "    json_file.write(json_data)"
   ]
  }
 ],
 "metadata": {
  "kernelspec": {
   "display_name": "Python 3 (ipykernel)",
   "language": "python",
   "name": "python3"
  },
  "language_info": {
   "codemirror_mode": {
    "name": "ipython",
    "version": 3
   },
   "file_extension": ".py",
   "mimetype": "text/x-python",
   "name": "python",
   "nbconvert_exporter": "python",
   "pygments_lexer": "ipython3",
   "version": "3.9.18"
  }
 },
 "nbformat": 4,
 "nbformat_minor": 5
}
