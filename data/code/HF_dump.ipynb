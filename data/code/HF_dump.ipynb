{
 "cells": [
  {
   "cell_type": "code",
   "execution_count": 2,
   "id": "04467e26-606c-4e8f-94c1-55ffd6651b90",
   "metadata": {},
   "outputs": [],
   "source": [
    "from huggingface_hub import login\n",
    "from datasets import Dataset\n",
    "import pandas as pd\n"
   ]
  },
  {
   "cell_type": "code",
   "execution_count": 3,
   "id": "f2a6b584-ad2c-4829-b2df-7b4ca5d207ed",
   "metadata": {},
   "outputs": [
    {
     "data": {
      "text/html": [
       "<div>\n",
       "<style scoped>\n",
       "    .dataframe tbody tr th:only-of-type {\n",
       "        vertical-align: middle;\n",
       "    }\n",
       "\n",
       "    .dataframe tbody tr th {\n",
       "        vertical-align: top;\n",
       "    }\n",
       "\n",
       "    .dataframe thead th {\n",
       "        text-align: right;\n",
       "    }\n",
       "</style>\n",
       "<table border=\"1\" class=\"dataframe\">\n",
       "  <thead>\n",
       "    <tr style=\"text-align: right;\">\n",
       "      <th></th>\n",
       "      <th>id</th>\n",
       "      <th>output</th>\n",
       "      <th>input</th>\n",
       "    </tr>\n",
       "  </thead>\n",
       "  <tbody>\n",
       "    <tr>\n",
       "      <th>0</th>\n",
       "      <td>bvcuvqhsvg5</td>\n",
       "      <td>non-belief</td>\n",
       "      <td>Quantum Entanglement babyyy</td>\n",
       "    </tr>\n",
       "    <tr>\n",
       "      <th>1</th>\n",
       "      <td>fqjavdtue4j</td>\n",
       "      <td>non-belief</td>\n",
       "      <td>Good catch. Updated the description: Yes for V...</td>\n",
       "    </tr>\n",
       "    <tr>\n",
       "      <th>2</th>\n",
       "      <td>aig292awtb6</td>\n",
       "      <td>non-belief</td>\n",
       "      <td>All of our ingredients are ethically sourced.</td>\n",
       "    </tr>\n",
       "    <tr>\n",
       "      <th>3</th>\n",
       "      <td>567lbqb2dyp</td>\n",
       "      <td>belief</td>\n",
       "      <td>seems right:</td>\n",
       "    </tr>\n",
       "    <tr>\n",
       "      <th>4</th>\n",
       "      <td>t04x2msdwls</td>\n",
       "      <td>non-belief</td>\n",
       "      <td>to the moon</td>\n",
       "    </tr>\n",
       "    <tr>\n",
       "      <th>...</th>\n",
       "      <td>...</td>\n",
       "      <td>...</td>\n",
       "      <td>...</td>\n",
       "    </tr>\n",
       "    <tr>\n",
       "      <th>208</th>\n",
       "      <td>n1jkpjv22nh</td>\n",
       "      <td>non-belief</td>\n",
       "      <td>Hmm, so at any point in time, you should bet w...</td>\n",
       "    </tr>\n",
       "    <tr>\n",
       "      <th>209</th>\n",
       "      <td>9w05in4ztwn</td>\n",
       "      <td>non-belief</td>\n",
       "      <td>this market is now effectively, will he rejoin...</td>\n",
       "    </tr>\n",
       "    <tr>\n",
       "      <th>210</th>\n",
       "      <td>idwfxff0jp</td>\n",
       "      <td>non-belief</td>\n",
       "      <td>You missed one!</td>\n",
       "    </tr>\n",
       "    <tr>\n",
       "      <th>211</th>\n",
       "      <td>jz4gkba277c</td>\n",
       "      <td>non-belief</td>\n",
       "      <td>Christopher Hope of GB News says that Reform U...</td>\n",
       "    </tr>\n",
       "    <tr>\n",
       "      <th>212</th>\n",
       "      <td>f7ijp9m6k6u</td>\n",
       "      <td>belief</td>\n",
       "      <td>I stay sane by appreciating the little things ...</td>\n",
       "    </tr>\n",
       "  </tbody>\n",
       "</table>\n",
       "<p>213 rows × 3 columns</p>\n",
       "</div>"
      ],
      "text/plain": [
       "              id      output  \\\n",
       "0    bvcuvqhsvg5  non-belief   \n",
       "1    fqjavdtue4j  non-belief   \n",
       "2    aig292awtb6  non-belief   \n",
       "3    567lbqb2dyp      belief   \n",
       "4    t04x2msdwls  non-belief   \n",
       "..           ...         ...   \n",
       "208  n1jkpjv22nh  non-belief   \n",
       "209  9w05in4ztwn  non-belief   \n",
       "210   idwfxff0jp  non-belief   \n",
       "211  jz4gkba277c  non-belief   \n",
       "212  f7ijp9m6k6u      belief   \n",
       "\n",
       "                                                 input  \n",
       "0                          Quantum Entanglement babyyy  \n",
       "1    Good catch. Updated the description: Yes for V...  \n",
       "2        All of our ingredients are ethically sourced.  \n",
       "3                                         seems right:  \n",
       "4                                          to the moon  \n",
       "..                                                 ...  \n",
       "208  Hmm, so at any point in time, you should bet w...  \n",
       "209  this market is now effectively, will he rejoin...  \n",
       "210                                    You missed one!  \n",
       "211  Christopher Hope of GB News says that Reform U...  \n",
       "212  I stay sane by appreciating the little things ...  \n",
       "\n",
       "[213 rows x 3 columns]"
      ]
     },
     "execution_count": 3,
     "metadata": {},
     "output_type": "execute_result"
    }
   ],
   "source": [
    "\n",
    "df_csv = pd.read_csv('data/annotated/manifold_annotated.csv', usecols=['id', 'text', 'sentiment'])\n",
    "df_csv.rename(columns={'text':'input', 'sentiment': 'output'}, inplace=True)\n",
    "df_csv"
   ]
  },
  {
   "cell_type": "code",
   "execution_count": 4,
   "id": "3453c705-1770-4c51-b892-666cc63768ec",
   "metadata": {},
   "outputs": [],
   "source": [
    "dataset = Dataset.from_pandas(df_csv)"
   ]
  },
  {
   "cell_type": "code",
   "execution_count": 5,
   "id": "c87fdd3c-908c-4a30-b501-e0c399119b62",
   "metadata": {},
   "outputs": [
    {
     "data": {
      "application/vnd.jupyter.widget-view+json": {
       "model_id": "2d2a4a7f9b8940a5a8fe25a78502fd63",
       "version_major": 2,
       "version_minor": 0
      },
      "text/plain": [
       "Uploading the dataset shards:   0%|          | 0/1 [00:00<?, ?it/s]"
      ]
     },
     "metadata": {},
     "output_type": "display_data"
    },
    {
     "data": {
      "application/vnd.jupyter.widget-view+json": {
       "model_id": "359bdb52c57c4242a2d8896be1999ad6",
       "version_major": 2,
       "version_minor": 0
      },
      "text/plain": [
       "Creating parquet from Arrow format:   0%|          | 0/1 [00:00<?, ?ba/s]"
      ]
     },
     "metadata": {},
     "output_type": "display_data"
    },
    {
     "data": {
      "application/vnd.jupyter.widget-view+json": {
       "model_id": "ba285aef1ae64fe2b49381d7c085a292",
       "version_major": 2,
       "version_minor": 0
      },
      "text/plain": [
       "README.md:   0%|          | 0.00/334 [00:00<?, ?B/s]"
      ]
     },
     "metadata": {},
     "output_type": "display_data"
    }
   ],
   "source": [
    "dataset.push_to_hub(\"parisachdev/train\")"
   ]
  },
  {
   "cell_type": "code",
   "execution_count": 6,
   "id": "c9f9c903-6594-4960-a205-8aaf0e32f06b",
   "metadata": {},
   "outputs": [
    {
     "data": {
      "text/plain": [
       "Dataset({\n",
       "    features: ['id', 'output', 'input'],\n",
       "    num_rows: 213\n",
       "})"
      ]
     },
     "execution_count": 6,
     "metadata": {},
     "output_type": "execute_result"
    }
   ],
   "source": [
    "dataset"
   ]
  },
  {
   "cell_type": "code",
   "execution_count": 7,
   "id": "2aaccfa9-16c9-4071-9fcf-3b3a391f45cb",
   "metadata": {},
   "outputs": [],
   "source": [
    "json_data = df_csv.to_json(orient='records')\n",
    "with open('data/annotated/manifold_annotated.json', 'w') as json_file:\n",
    "    json_file.write(json_data)"
   ]
  }
 ],
 "metadata": {
  "kernelspec": {
   "display_name": "Python 3 (ipykernel)",
   "language": "python",
   "name": "python3"
  },
  "language_info": {
   "codemirror_mode": {
    "name": "ipython",
    "version": 3
   },
   "file_extension": ".py",
   "mimetype": "text/x-python",
   "name": "python",
   "nbconvert_exporter": "python",
   "pygments_lexer": "ipython3",
   "version": "3.9.18"
  }
 },
 "nbformat": 4,
 "nbformat_minor": 5
}
