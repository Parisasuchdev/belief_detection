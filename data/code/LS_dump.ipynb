{
 "cells": [
  {
   "cell_type": "code",
   "execution_count": 18,
   "metadata": {},
   "outputs": [],
   "source": [
    "import json\n",
    "import requests"
   ]
  },
  {
   "cell_type": "code",
   "execution_count": 19,
   "metadata": {},
   "outputs": [],
   "source": [
    "def import_data_to_label_studio(json_file_path, proj_id, config_path='config/LS.json'):\n",
    "    try:\n",
    "        with open(config_path, 'r') as file:\n",
    "            config = json.load(file)\n",
    "        token = config.get('LS_TOK')\n",
    "    except Exception as e:\n",
    "        print(f\"Failed to load the configuration: {e}\")\n",
    "        return\n",
    "\n",
    "    try:\n",
    "        with open(json_file_path, 'r') as json_file:\n",
    "            data_to_send = json.load(json_file)\n",
    "    except Exception as e:\n",
    "        print(f\"Failed to load JSON data from {json_file_path}: {e}\")\n",
    "        return\n",
    "\n",
    "    if not token:\n",
    "        print(\"You need to setup your Label Studio token.\")\n",
    "        return\n",
    "    if not data_to_send:\n",
    "        print(\"No data found to send, check your JSON file.\")\n",
    "        return\n",
    "\n",
    "    try:\n",
    "        response = requests.post(f'https://app.heartex.com/api/projects/{proj_id}/import',\n",
    "                                 headers={'Content-Type': 'application/json', 'Authorization': f\"Token {token}\"},\n",
    "                                 json=data_to_send)\n",
    "        print(response.text)\n",
    "        print(response.status_code)\n",
    "    except Exception as e:\n",
    "        print(f\"Failed to make the API request: {e}\")\n",
    "\n"
   ]
  },
  {
   "cell_type": "code",
   "execution_count": 20,
   "metadata": {},
   "outputs": [
    {
     "name": "stdout",
     "output_type": "stream",
     "text": [
      "{\"import\":1309524}\n",
      "201\n"
     ]
    }
   ],
   "source": [
    "import_data_to_label_studio('../cleaned/reddit_samples_cleaned.json', 63138)"
   ]
  },
  {
   "cell_type": "code",
   "execution_count": 21,
   "metadata": {},
   "outputs": [
    {
     "name": "stdout",
     "output_type": "stream",
     "text": [
      "{\"import\":1309525}\n",
      "201\n"
     ]
    }
   ],
   "source": [
    "import_data_to_label_studio('../cleaned/manifold_samples_cleaned.json', 64419)\n"
   ]
  },
  {
   "cell_type": "code",
   "execution_count": null,
   "metadata": {},
   "outputs": [],
   "source": []
  }
 ],
 "metadata": {
  "kernelspec": {
   "display_name": "llama_env",
   "language": "python",
   "name": "python3"
  },
  "language_info": {
   "codemirror_mode": {
    "name": "ipython",
    "version": 3
   },
   "file_extension": ".py",
   "mimetype": "text/x-python",
   "name": "python",
   "nbconvert_exporter": "python",
   "pygments_lexer": "ipython3",
   "version": "3.9.18"
  }
 },
 "nbformat": 4,
 "nbformat_minor": 2
}
