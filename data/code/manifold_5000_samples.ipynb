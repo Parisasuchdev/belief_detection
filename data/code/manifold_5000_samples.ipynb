{
 "cells": [
  {
   "cell_type": "code",
   "execution_count": 24,
   "metadata": {},
   "outputs": [],
   "source": [
    "from pymongo import MongoClient\n",
    "from pathlib import Path\n",
    "import sys\n",
    "import json\n",
    "import os\n",
    "import random"
   ]
  },
  {
   "cell_type": "code",
   "execution_count": 33,
   "metadata": {},
   "outputs": [
    {
     "name": "stdout",
     "output_type": "stream",
     "text": [
      "Connected to MongoDB\n",
      "Data saved to data/manifold_samples_5k.json\n"
     ]
    }
   ],
   "source": [
    "def get_credentials():\n",
    "    current_dir = os.getcwd()\n",
    "    config_path = Path(current_dir) / 'config' / 'client.json'\n",
    "    with config_path.open('r') as f:\n",
    "        credentials = json.load(f)\n",
    "    return credentials['username'], credentials['pwd'], credentials['hostname'], credentials['port']\n",
    "\n",
    "def db_connect():\n",
    "    username, pwd, hostname, port = get_credentials()\n",
    "    try:\n",
    "        client = MongoClient(f'mongodb://{username}:{pwd}@{hostname}:{port}')\n",
    "        print(\"Connected to MongoDB\")\n",
    "        client.server_info()  # Validate connection\n",
    "    except Exception as e:\n",
    "        print(f\"Error connecting to MongoDB: {e}\")\n",
    "        sys.exit(1)\n",
    "    return client\n",
    "\n",
    "def get_collection(collection_name):\n",
    "    dbname = \"manifoldDB\"\n",
    "    client = db_connect()\n",
    "    db = client[dbname]\n",
    "    collection = db[collection_name]\n",
    "    return collection, client\n",
    "\n",
    "def save_as_json(data, filename):\n",
    "    os.makedirs(os.path.dirname(filename), exist_ok=True)  # Ensure directory exists\n",
    "    with open(filename, 'w') as file:\n",
    "        json.dump(data, file, indent=4)\n",
    "    print(f\"Data saved to {filename}\")\n",
    "\n",
    "def find_all_texts(data, key='text'):\n",
    "    texts = []\n",
    "    if isinstance(data, dict):\n",
    "        if key in data:\n",
    "            texts.append(data[key])\n",
    "        for value in data.values():\n",
    "            texts.extend(find_all_texts(value, key))\n",
    "    elif isinstance(data, list):\n",
    "        for item in data:\n",
    "            texts.extend(find_all_texts(item, key))\n",
    "    return texts\n",
    "\n",
    "def extract_all_texts(docs):\n",
    "    processed_data = []\n",
    "    for doc in docs:\n",
    "        doc_data = {\n",
    "            'id': doc['id'],\n",
    "            'texts': find_all_texts(doc)\n",
    "        }\n",
    "        processed_data.append(doc_data)\n",
    "    return processed_data\n",
    "\n",
    "\n",
    "collection, client = get_collection('comments')\n",
    "all_ids = [doc['_id'] for doc in collection.find({}, {'_id': 1})]\n",
    "sampled_ids = random.sample(all_ids, 5000)\n",
    "samples = collection.find({'_id': {'$in': sampled_ids}})\n",
    "samples_list = list(samples)\n",
    "processed_samples = extract_all_texts(samples_list)\n",
    "save_as_json(processed_samples, '../raw/manifold_samples_5k.json')\n",
    "client.close()"
   ]
  },
  {
   "cell_type": "markdown",
   "metadata": {},
   "source": []
  }
 ],
 "metadata": {
  "kernelspec": {
   "display_name": "llama_env",
   "language": "python",
   "name": "python3"
  },
  "language_info": {
   "codemirror_mode": {
    "name": "ipython",
    "version": 3
   },
   "file_extension": ".py",
   "mimetype": "text/x-python",
   "name": "python",
   "nbconvert_exporter": "python",
   "pygments_lexer": "ipython3",
   "version": "3.9.18"
  }
 },
 "nbformat": 4,
 "nbformat_minor": 2
}
