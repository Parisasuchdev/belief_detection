{
 "cells": [
  {
   "cell_type": "markdown",
   "metadata": {},
   "source": [
    "## Import Libraries"
   ]
  },
  {
   "cell_type": "code",
   "execution_count": 21,
   "metadata": {},
   "outputs": [],
   "source": [
    "import matplotlib.pyplot as plt\n",
    "import torch\n",
    "\n",
    "#load dataset\n",
    "from datasets import load_dataset\n",
    "\n",
    "#llama2\n",
    "from transformers import LlamaForCausalLM, LlamaTokenizer\n",
    "\n",
    "\n",
    "#profiler\n",
    "from transformers import TrainerCallback\n",
    "from contextlib import nullcontext\n",
    "\n",
    "# training\n",
    "from transformers import default_data_collator, Trainer, TrainingArguments, DataCollatorForLanguageModeling\n",
    "\n",
    "#lora\n",
    "from peft import get_peft_model, LoraConfig, TaskType"
   ]
  },
  {
   "cell_type": "markdown",
   "metadata": {},
   "source": [
    "## Load Dataset"
   ]
  },
  {
   "cell_type": "code",
   "execution_count": 4,
   "metadata": {},
   "outputs": [
    {
     "data": {
      "application/vnd.jupyter.widget-view+json": {
       "model_id": "67bdd79c964f47c3a1f68987e4b47b34",
       "version_major": 2,
       "version_minor": 0
      },
      "text/plain": [
       "Downloading readme:   0%|          | 0.00/334 [00:00<?, ?B/s]"
      ]
     },
     "metadata": {},
     "output_type": "display_data"
    },
    {
     "data": {
      "application/vnd.jupyter.widget-view+json": {
       "model_id": "ca578b1436fb4b39af0308a5b15b12ea",
       "version_major": 2,
       "version_minor": 0
      },
      "text/plain": [
       "Downloading data files:   0%|          | 0/1 [00:00<?, ?it/s]"
      ]
     },
     "metadata": {},
     "output_type": "display_data"
    },
    {
     "data": {
      "application/vnd.jupyter.widget-view+json": {
       "model_id": "636583f117894e95811e221beced3b32",
       "version_major": 2,
       "version_minor": 0
      },
      "text/plain": [
       "Downloading data:   0%|          | 0.00/46.7k [00:00<?, ?B/s]"
      ]
     },
     "metadata": {},
     "output_type": "display_data"
    },
    {
     "data": {
      "application/vnd.jupyter.widget-view+json": {
       "model_id": "cbba8da55ebb481cb53f09dcd256ba07",
       "version_major": 2,
       "version_minor": 0
      },
      "text/plain": [
       "Extracting data files:   0%|          | 0/1 [00:00<?, ?it/s]"
      ]
     },
     "metadata": {},
     "output_type": "display_data"
    },
    {
     "data": {
      "application/vnd.jupyter.widget-view+json": {
       "model_id": "76f3e59650764dde95c2c92aec8b12d0",
       "version_major": 2,
       "version_minor": 0
      },
      "text/plain": [
       "Generating train split:   0%|          | 0/213 [00:00<?, ? examples/s]"
      ]
     },
     "metadata": {},
     "output_type": "display_data"
    }
   ],
   "source": [
    "from datasets import load_dataset\n",
    "\n",
    "dataset = load_dataset(\"parisachdev/train\", data_files='manifold_annotated.json', split='train')\n",
    "train_dataset = dataset.train_test_split(test_size=0.09, shuffle=True, seed=42)"
   ]
  },
  {
   "cell_type": "code",
   "execution_count": 5,
   "metadata": {},
   "outputs": [
    {
     "data": {
      "text/plain": [
       "DatasetDict({\n",
       "    train: Dataset({\n",
       "        features: ['id', 'output', 'input'],\n",
       "        num_rows: 193\n",
       "    })\n",
       "    test: Dataset({\n",
       "        features: ['id', 'output', 'input'],\n",
       "        num_rows: 20\n",
       "    })\n",
       "})"
      ]
     },
     "execution_count": 5,
     "metadata": {},
     "output_type": "execute_result"
    }
   ],
   "source": [
    "train_dataset"
   ]
  },
  {
   "cell_type": "markdown",
   "metadata": {},
   "source": [
    "## Initialize model (Llama 2)"
   ]
  },
  {
   "cell_type": "code",
   "execution_count": 6,
   "metadata": {},
   "outputs": [
    {
     "data": {
      "application/vnd.jupyter.widget-view+json": {
       "model_id": "fb7e2af82fde40c78330c68517b5ce28",
       "version_major": 2,
       "version_minor": 0
      },
      "text/plain": [
       "Loading checkpoint shards:   0%|          | 0/6 [00:00<?, ?it/s]"
      ]
     },
     "metadata": {},
     "output_type": "display_data"
    }
   ],
   "source": [
    "model_id = \"/users/p/s/psuchdev/LLM/models/huggingface/13Bf\"\n",
    "output_dir = \"tmp/llama-output\"\n",
    "\n",
    "model = LlamaForCausalLM.from_pretrained(model_id, device_map='auto')  # Automatically assigns the model to the best device (gpu)\n",
    "tokenizer = LlamaTokenizer.from_pretrained(model_id)\n",
    "tokenizer.pad_token = tokenizer.eos_token  # set pad token to be the end of sequence token"
   ]
  },
  {
   "cell_type": "markdown",
   "metadata": {},
   "source": [
    "## Format Dataset"
   ]
  },
  {
   "cell_type": "code",
   "execution_count": 7,
   "metadata": {},
   "outputs": [
    {
     "name": "stdout",
     "output_type": "stream",
     "text": [
      "<s>[INST] <<SYS>> \n",
      "Pretend you are a philosopher analyzing comments to determine if they express a belief. Define 'belief' as the mental attitude where something is regarded as true, without needing active reflection or evidence.\n",
      "For each statement, ask:\n",
      "1. Does this imply the subject regards something as true?\n",
      "2. Is there an implicit acceptance of truth?\n",
      "Classify as 'belief' if either condition is met, otherwise as 'non-belief'. Make sure to return results as JSON objects with the original statement and classification.\n",
      " <</SYS>>\n",
      "Input: Not that it really affected my betting, but based on the text, I assumed you'd keep it open and keep betting NO until it happened, even if it became clear that it wasn't going to happen.\n",
      "Make sure to return results as JSON objects with the original statement and classification. [/INST]\n",
      "Output: belief\n"
     ]
    }
   ],
   "source": [
    "sys_prompt = \"\"\"\n",
    "Pretend you are a philosopher analyzing comments to determine if they express a belief. Define 'belief' as the mental attitude where something is regarded as true, without needing active reflection or evidence.\n",
    "For each statement, ask:\n",
    "1. Does this imply the subject regards something as true?\n",
    "2. Is there an implicit acceptance of truth?\n",
    "Classify as 'belief' if either condition is met, otherwise as 'non-belief'. Make sure to return results as JSON objects with the original statement and classification.\n",
    "\"\"\"\n",
    "\n",
    "def formatting_func(example):\n",
    "    text = f\"\"\"<s>[INST] <<SYS>> {sys_prompt} <</SYS>>\n",
    "Input: {example['input']}\n",
    "Make sure to return results as JSON objects with the original statement and classification. [/INST]\n",
    "Output: {example['output']}\"\"\"\n",
    "    return text\n",
    "\n",
    "print(formatting_func(train_dataset['train'][0]))"
   ]
  },
  {
   "cell_type": "markdown",
   "metadata": {},
   "source": [
    "## Tokenize"
   ]
  },
  {
   "cell_type": "code",
   "execution_count": 8,
   "metadata": {},
   "outputs": [
    {
     "data": {
      "application/vnd.jupyter.widget-view+json": {
       "model_id": "61ee657537ca4a808ac5adad31076997",
       "version_major": 2,
       "version_minor": 0
      },
      "text/plain": [
       "Map:   0%|          | 0/193 [00:00<?, ? examples/s]"
      ]
     },
     "metadata": {},
     "output_type": "display_data"
    },
    {
     "name": "stderr",
     "output_type": "stream",
     "text": [
      "Asking to truncate to max_length but no maximum length is provided and the model has no predefined maximum length. Default to no truncation.\n"
     ]
    },
    {
     "data": {
      "image/png": "[encoded data removed]",
      "text/plain": [
       "<Figure size 1500x600 with 1 Axes>"
      ]
     },
     "metadata": {},
     "output_type": "display_data"
    }
   ],
   "source": [
    "# function to tokenize with options for padding and max_length\n",
    "def generate_and_tokenize_prompt(prompt, padding, max_length):\n",
    "    return tokenizer(formatting_func(prompt), padding=padding, truncation=True, max_length=max_length)\n",
    "\n",
    "# map this function to the dataset without padding or max_length for plotting\n",
    "tokenized_train_dataset_for_plotting = train_dataset[\"train\"].map(\n",
    "    generate_and_tokenize_prompt, \n",
    "    fn_kwargs={'padding': False, 'max_length': None}\n",
    ")\n",
    "\n",
    "# calculate the token lengths\n",
    "token_lengths = [len(input_ids) for input_ids in tokenized_train_dataset_for_plotting['input_ids']]\n",
    "\n",
    "# plot\n",
    "plt.figure(figsize=(15, 6))\n",
    "plt.hist(token_lengths, bins=50, color='skyblue', edgecolor='black')\n",
    "plt.title('Distribution of Token Counts for input+instruction')\n",
    "plt.xlabel('Number of Tokens')\n",
    "plt.ylabel('Number of Examples')\n",
    "plt.grid(axis='y', alpha=0.75)\n",
    "plt.show()"
   ]
  },
  {
   "cell_type": "code",
   "execution_count": 9,
   "metadata": {},
   "outputs": [
    {
     "data": {
      "application/vnd.jupyter.widget-view+json": {
       "model_id": "01a4c3192900457da0a833f8d3afc249",
       "version_major": 2,
       "version_minor": 0
      },
      "text/plain": [
       "Map:   0%|          | 0/193 [00:00<?, ? examples/s]"
      ]
     },
     "metadata": {},
     "output_type": "display_data"
    },
    {
     "data": {
      "application/vnd.jupyter.widget-view+json": {
       "model_id": "103953f6d4cd49339a6d1e2b9e561c2d",
       "version_major": 2,
       "version_minor": 0
      },
      "text/plain": [
       "Map:   0%|          | 0/20 [00:00<?, ? examples/s]"
      ]
     },
     "metadata": {},
     "output_type": "display_data"
    }
   ],
   "source": [
    "# max context size of Llama 2 by default = 4096, we are keeping it to 1024.\n",
    "# not filterting out any rows because largers examples are beneficial\n",
    "\n",
    "tokenized_train_dataset = train_dataset[\"train\"].map(\n",
    "    generate_and_tokenize_prompt, \n",
    "    fn_kwargs={'padding': \"max_length\", 'max_length': 1024} #max length and apply padding\n",
    ")\n",
    "\n",
    "tokenized_validate_dataset = train_dataset[\"test\"].map(\n",
    "    generate_and_tokenize_prompt, \n",
    "    fn_kwargs={'padding': \"max_length\", 'max_length': 1024} #max length and apply padding\n",
    ")"
   ]
  },
  {
   "cell_type": "code",
   "execution_count": 10,
   "metadata": {},
   "outputs": [
    {
     "data": {
      "text/plain": [
       "Dataset({\n",
       "    features: ['id', 'output', 'input', 'input_ids', 'attention_mask'],\n",
       "    num_rows: 193\n",
       "})"
      ]
     },
     "execution_count": 10,
     "metadata": {},
     "output_type": "execute_result"
    }
   ],
   "source": [
    "tokenized_train_dataset"
   ]
  },
  {
   "cell_type": "markdown",
   "metadata": {},
   "source": [
    "#### Enable Gradient Checkpointing\n",
    "If you are training a large language model and find that you are running out of memory (OOM errors), enabling gradient checkpointing can help fit the training process within the available memory limits. However, you should be prepared for each epoch to take longer due to the need for recomputation because it doesn't stores all intermediate activations in forward pass but during the backward pass on the fly"
   ]
  },
  {
   "cell_type": "code",
   "execution_count": 11,
   "metadata": {},
   "outputs": [],
   "source": [
    "model.gradient_checkpointing_enable()"
   ]
  },
  {
   "cell_type": "markdown",
   "metadata": {},
   "source": [
    "#### PEFT Configuration\n",
    "\n",
    "Setting up a configuration for using PEFT (Parameter Efficient Finetuning), specifically with an adaptation called LoRA (Low-Rank Adaptation). Used to efficiently finetune llms by adding trainable parameters that influence the model's behavior in a more controlled and resource efficient manner compared to finetuning all parameters.\n",
    "\n",
    "PEFT is a general approach that significantly reduce memory and compute requirements and helps prevent overfitting when data is limited\n",
    "\n",
    "LoRA is a specific technique under the umbrella of PEFT where instead of finetuning all parameters of a model, you introduce and train lowrank matrices that adapt the pretrained weights. This adaptation is mathematically designed to capture significant changes with fewer parameters\n",
    "\n",
    "Great tutorial to understand LoRa and QLoRa: https://www.youtube.com/watch?v=t1caDsMzWBk"
   ]
  },
  {
   "cell_type": "code",
   "execution_count": 12,
   "metadata": {},
   "outputs": [
    {
     "name": "stdout",
     "output_type": "stream",
     "text": [
      "trainable params: 252,723,200 || all params: 13,268,587,520 || trainable%: 1.904672970043461\n"
     ]
    }
   ],
   "source": [
    "model.train() # the model must be in training mode before LoRA is applied to ensure all training-specific behaviors are activated\n",
    "def create_peft_config(model):\n",
    "    peft_config = LoraConfig(\n",
    "        task_type=TaskType.CAUSAL_LM, # the type of task for which the model is being adapted: predicting the next word given the previous context\n",
    "        inference_mode=False, # inference or training\n",
    "        r=64, # the rank of the adaptation matrices. A lower rank means fewer parameters are added\n",
    "        lora_alpha=256, # the extent to which the LoRA parameters influence the original model weights\n",
    "        lora_dropout=0.05, # dropout rate applied to the LoRA parameters, which can help prevent overfitting during training\n",
    "        target_modules=[ # list of module names within the model where LoRA adaptations are to be applied\n",
    "        \"q_proj\",\n",
    "        \"k_proj\",\n",
    "        \"v_proj\",\n",
    "        \"o_proj\",\n",
    "        \"gate_proj\",\n",
    "        \"up_proj\",\n",
    "        \"down_proj\",\n",
    "        \"lm_head\",\n",
    "    ]\n",
    "    )\n",
    "    model = get_peft_model(model, peft_config)\n",
    "    model.print_trainable_parameters()\n",
    "    return model, peft_config\n",
    "try:\n",
    "    # create peft config\n",
    "    model, lora_config = create_peft_config(model)\n",
    "except:\n",
    "    model, lora_config = create_peft_config(model)"
   ]
  },
  {
   "cell_type": "markdown",
   "metadata": {},
   "source": [
    "## Training Setup and Performance Profiling\n",
    "focuses on efficient resource management and the ability to analyze model behavior during finetuning"
   ]
  },
  {
   "cell_type": "code",
   "execution_count": 13,
   "metadata": {},
   "outputs": [],
   "source": [
    "enable_profiler = False\n",
    "output_dir = \"tmp/llama-output\"\n",
    "\n",
    "config = {\n",
    "    'lora_config': lora_config,\n",
    "    'learning_rate': 2.5e-5,\n",
    "    'num_train_epochs': 2,\n",
    "    'gradient_accumulation_steps': 1, # steps to accumulate gradients before performing a backward/update pass, set to 1: no accumulation\n",
    "    'per_device_train_batch_size': 1, # batch size per device, set to 1\n",
    "    'gradient_checkpointing': True, # gradient checkpointing to reduce memory usage at the cost of additional computation\n",
    "}\n",
    "\n",
    "# Set up profiler\n",
    "if enable_profiler: # whether profiling should be activated to monitor performance and resource usage during training\n",
    "    # wait: # of steps to skip before starting profiling\n",
    "    # warmup: steps used to ramp up the profiler\n",
    "    # active: steps during which profiling is active\n",
    "    # repeat: how many times to repeat this profiling cycle\n",
    "\n",
    "    wait, warmup, active, repeat = 1, 1, 2, 1\n",
    "    total_steps = (wait + warmup + active) * (1 + repeat)\n",
    "    schedule =  torch.profiler.schedule(wait=wait, warmup=warmup, active=active, repeat=repeat)\n",
    "    profiler = torch.profiler.profile(\n",
    "        schedule=schedule,\n",
    "        on_trace_ready=torch.profiler.tensorboard_trace_handler(f\"{output_dir}/logs/tensorboard\"),  # a handler for saving profiler traces\n",
    "        record_shapes=True,\n",
    "        profile_memory=True,\n",
    "        with_stack=True)\n",
    "    \n",
    "    class ProfilerCallback(TrainerCallback):\n",
    "        def __init__(self, profiler):\n",
    "            self.profiler = profiler\n",
    "            \n",
    "        def on_step_end(self, *args, **kwargs):\n",
    "            self.profiler.step()\n",
    "\n",
    "    profiler_callback = ProfilerCallback(profiler) # to trigger the profiler’s step function at the end of each training step\n",
    "else:\n",
    "    profiler = nullcontext()"
   ]
  },
  {
   "cell_type": "markdown",
   "metadata": {},
   "source": [
    "## Configuring Training Parameters and Initiating Model Training\n"
   ]
  },
  {
   "cell_type": "code",
   "execution_count": 14,
   "metadata": {},
   "outputs": [
    {
     "name": "stderr",
     "output_type": "stream",
     "text": [
      "Detected kernel version 3.10.0, which is below the recommended minimum of 5.5.0; this can cause the process to hang. It is recommended to upgrade the kernel to the minimum version or higher.\n"
     ]
    },
    {
     "name": "stderr",
     "output_type": "stream",
     "text": [
      "\u001b[34m\u001b[1mwandb\u001b[0m: Currently logged in as: \u001b[33mparisasuchdev\u001b[0m (\u001b[33mbelief-detection\u001b[0m). Use \u001b[1m`wandb login --relogin`\u001b[0m to force relogin\n"
     ]
    },
    {
     "data": {
      "text/html": [
       "wandb version 0.16.6 is available!  To upgrade, please run:\n",
       " $ pip install wandb --upgrade"
      ],
      "text/plain": [
       "<IPython.core.display.HTML object>"
      ]
     },
     "metadata": {},
     "output_type": "display_data"
    },
    {
     "data": {
      "text/html": [
       "Tracking run with wandb version 0.16.0"
      ],
      "text/plain": [
       "<IPython.core.display.HTML object>"
      ]
     },
     "metadata": {},
     "output_type": "display_data"
    },
    {
     "data": {
      "text/html": [
       "Run data is saved locally in <code>/gpfs1/home/p/s/psuchdev/DSII/main/wandb/run-20240501_225503-q1vbdmo3</code>"
      ],
      "text/plain": [
       "<IPython.core.display.HTML object>"
      ]
     },
     "metadata": {},
     "output_type": "display_data"
    },
    {
     "data": {
      "text/html": [
       "Syncing run <strong><a href='https://wandb.ai/belief-detection/huggingface/runs/q1vbdmo3' target=\"_blank\">dulcet-tree-6</a></strong> to <a href='https://wandb.ai/belief-detection/huggingface' target=\"_blank\">Weights & Biases</a> (<a href='https://wandb.me/run' target=\"_blank\">docs</a>)<br/>"
      ],
      "text/plain": [
       "<IPython.core.display.HTML object>"
      ]
     },
     "metadata": {},
     "output_type": "display_data"
    },
    {
     "data": {
      "text/html": [
       " View project at <a href='https://wandb.ai/belief-detection/huggingface' target=\"_blank\">https://wandb.ai/belief-detection/huggingface</a>"
      ],
      "text/plain": [
       "<IPython.core.display.HTML object>"
      ]
     },
     "metadata": {},
     "output_type": "display_data"
    },
    {
     "data": {
      "text/html": [
       " View run at <a href='https://wandb.ai/belief-detection/huggingface/runs/q1vbdmo3' target=\"_blank\">https://wandb.ai/belief-detection/huggingface/runs/q1vbdmo3</a>"
      ],
      "text/plain": [
       "<IPython.core.display.HTML object>"
      ]
     },
     "metadata": {},
     "output_type": "display_data"
    },
    {
     "name": "stderr",
     "output_type": "stream",
     "text": [
      "`use_cache=True` is incompatible with gradient checkpointing. Setting `use_cache=False`.\n",
      "/users/p/s/psuchdev/miniconda3/envs/llama_env/lib/python3.9/site-packages/torch/utils/checkpoint.py:464: UserWarning: torch.utils.checkpoint: the use_reentrant parameter should be passed explicitly. In version 2.4 we will raise an exception if use_reentrant is not passed. use_reentrant=False is recommended, but if you need to preserve the current default behavior, you can pass use_reentrant=True. Refer to docs for more details on the differences between the two variants.\n",
      "  warnings.warn(\n"
     ]
    },
    {
     "data": {
      "text/html": [
       "\n",
       "    <div>\n",
       "      \n",
       "      <progress value='386' max='386' style='width:300px; height:20px; vertical-align: middle;'></progress>\n",
       "      [386/386 18:19, Epoch 2/2]\n",
       "    </div>\n",
       "    <table border=\"1\" class=\"dataframe\">\n",
       "  <thead>\n",
       " <tr style=\"text-align: left;\">\n",
       "      <th>Step</th>\n",
       "      <th>Training Loss</th>\n",
       "      <th>Validation Loss</th>\n",
       "    </tr>\n",
       "  </thead>\n",
       "  <tbody>\n",
       "    <tr>\n",
       "      <td>10</td>\n",
       "      <td>1.993600</td>\n",
       "      <td>0.782596</td>\n",
       "    </tr>\n",
       "    <tr>\n",
       "      <td>20</td>\n",
       "      <td>0.511400</td>\n",
       "      <td>0.548685</td>\n",
       "    </tr>\n",
       "    <tr>\n",
       "      <td>30</td>\n",
       "      <td>0.501900</td>\n",
       "      <td>0.509116</td>\n",
       "    </tr>\n",
       "    <tr>\n",
       "      <td>40</td>\n",
       "      <td>0.642300</td>\n",
       "      <td>0.491277</td>\n",
       "    </tr>\n",
       "    <tr>\n",
       "      <td>50</td>\n",
       "      <td>0.539500</td>\n",
       "      <td>0.489182</td>\n",
       "    </tr>\n",
       "    <tr>\n",
       "      <td>60</td>\n",
       "      <td>0.575900</td>\n",
       "      <td>0.477551</td>\n",
       "    </tr>\n",
       "    <tr>\n",
       "      <td>70</td>\n",
       "      <td>0.607500</td>\n",
       "      <td>0.474116</td>\n",
       "    </tr>\n",
       "    <tr>\n",
       "      <td>80</td>\n",
       "      <td>0.526200</td>\n",
       "      <td>0.469266</td>\n",
       "    </tr>\n",
       "    <tr>\n",
       "      <td>90</td>\n",
       "      <td>0.530000</td>\n",
       "      <td>0.467446</td>\n",
       "    </tr>\n",
       "    <tr>\n",
       "      <td>100</td>\n",
       "      <td>0.653500</td>\n",
       "      <td>0.461924</td>\n",
       "    </tr>\n",
       "    <tr>\n",
       "      <td>110</td>\n",
       "      <td>0.593200</td>\n",
       "      <td>0.458546</td>\n",
       "    </tr>\n",
       "    <tr>\n",
       "      <td>120</td>\n",
       "      <td>0.511100</td>\n",
       "      <td>0.460135</td>\n",
       "    </tr>\n",
       "    <tr>\n",
       "      <td>130</td>\n",
       "      <td>0.520000</td>\n",
       "      <td>0.457947</td>\n",
       "    </tr>\n",
       "    <tr>\n",
       "      <td>140</td>\n",
       "      <td>0.441900</td>\n",
       "      <td>0.454829</td>\n",
       "    </tr>\n",
       "    <tr>\n",
       "      <td>150</td>\n",
       "      <td>0.472200</td>\n",
       "      <td>0.455119</td>\n",
       "    </tr>\n",
       "    <tr>\n",
       "      <td>160</td>\n",
       "      <td>0.589400</td>\n",
       "      <td>0.453531</td>\n",
       "    </tr>\n",
       "    <tr>\n",
       "      <td>170</td>\n",
       "      <td>0.535100</td>\n",
       "      <td>0.452317</td>\n",
       "    </tr>\n",
       "    <tr>\n",
       "      <td>180</td>\n",
       "      <td>0.504600</td>\n",
       "      <td>0.449098</td>\n",
       "    </tr>\n",
       "    <tr>\n",
       "      <td>190</td>\n",
       "      <td>0.764000</td>\n",
       "      <td>0.446701</td>\n",
       "    </tr>\n",
       "    <tr>\n",
       "      <td>200</td>\n",
       "      <td>0.337900</td>\n",
       "      <td>0.445637</td>\n",
       "    </tr>\n",
       "    <tr>\n",
       "      <td>210</td>\n",
       "      <td>0.302900</td>\n",
       "      <td>0.445401</td>\n",
       "    </tr>\n",
       "    <tr>\n",
       "      <td>220</td>\n",
       "      <td>0.369000</td>\n",
       "      <td>0.449403</td>\n",
       "    </tr>\n",
       "    <tr>\n",
       "      <td>230</td>\n",
       "      <td>0.379800</td>\n",
       "      <td>0.448225</td>\n",
       "    </tr>\n",
       "    <tr>\n",
       "      <td>240</td>\n",
       "      <td>0.531600</td>\n",
       "      <td>0.449667</td>\n",
       "    </tr>\n",
       "    <tr>\n",
       "      <td>250</td>\n",
       "      <td>0.469200</td>\n",
       "      <td>0.450701</td>\n",
       "    </tr>\n",
       "    <tr>\n",
       "      <td>260</td>\n",
       "      <td>0.465300</td>\n",
       "      <td>0.451086</td>\n",
       "    </tr>\n",
       "    <tr>\n",
       "      <td>270</td>\n",
       "      <td>0.292200</td>\n",
       "      <td>0.454340</td>\n",
       "    </tr>\n",
       "    <tr>\n",
       "      <td>280</td>\n",
       "      <td>0.410500</td>\n",
       "      <td>0.457943</td>\n",
       "    </tr>\n",
       "    <tr>\n",
       "      <td>290</td>\n",
       "      <td>0.281400</td>\n",
       "      <td>0.457208</td>\n",
       "    </tr>\n",
       "    <tr>\n",
       "      <td>300</td>\n",
       "      <td>0.470500</td>\n",
       "      <td>0.455470</td>\n",
       "    </tr>\n",
       "    <tr>\n",
       "      <td>310</td>\n",
       "      <td>0.423400</td>\n",
       "      <td>0.455007</td>\n",
       "    </tr>\n",
       "    <tr>\n",
       "      <td>320</td>\n",
       "      <td>0.494000</td>\n",
       "      <td>0.454609</td>\n",
       "    </tr>\n",
       "    <tr>\n",
       "      <td>330</td>\n",
       "      <td>0.516900</td>\n",
       "      <td>0.454516</td>\n",
       "    </tr>\n",
       "    <tr>\n",
       "      <td>340</td>\n",
       "      <td>0.495900</td>\n",
       "      <td>0.455407</td>\n",
       "    </tr>\n",
       "    <tr>\n",
       "      <td>350</td>\n",
       "      <td>0.579900</td>\n",
       "      <td>0.456136</td>\n",
       "    </tr>\n",
       "    <tr>\n",
       "      <td>360</td>\n",
       "      <td>0.491500</td>\n",
       "      <td>0.456701</td>\n",
       "    </tr>\n",
       "    <tr>\n",
       "      <td>370</td>\n",
       "      <td>0.487800</td>\n",
       "      <td>0.456691</td>\n",
       "    </tr>\n",
       "    <tr>\n",
       "      <td>380</td>\n",
       "      <td>0.297600</td>\n",
       "      <td>0.456958</td>\n",
       "    </tr>\n",
       "  </tbody>\n",
       "</table><p>"
      ],
      "text/plain": [
       "<IPython.core.display.HTML object>"
      ]
     },
     "metadata": {},
     "output_type": "display_data"
    }
   ],
   "source": [
    "# Define training args\n",
    "training_args = TrainingArguments(\n",
    "    output_dir=output_dir,\n",
    "    overwrite_output_dir=True,\n",
    "    fp16=True,  # Use BF16 if available (enables mixed precision training, using FP16 (or BF16 if available on certain hardware like newer TPUs or GPUs) to reduce memory usage and possibly increase training speed)\n",
    "    # logging strategies\n",
    "    logging_dir=f\"{output_dir}/logs\",\n",
    "    logging_strategy=\"steps\", # how often to log information\n",
    "    logging_steps=10, # number of steps between each log\n",
    "    save_strategy=\"no\", # how often to save the model. It's set to \"no\", indicating that saving is disabled\n",
    "    evaluation_strategy=\"steps\", # how often to run evaluation during training\n",
    "    eval_steps=10, # number of steps between each evaluation.\n",
    "    optim=\"adamw_torch_fused\", # specifies the optimizer, here using \"adamw_torch_fused\" which is an optimized version of AdamW\n",
    "    max_steps=total_steps if enable_profiler else -1, # sets the maximum number of training steps. It uses the total steps calculated for the profiler if profiling is enabled, otherwise, it's set to -1, which generally means training will continue until another stopping condition is met\n",
    "    **{k:v for k,v in config.items() if k != 'lora_config'} # pass params from config expect lora-config\n",
    ")\n",
    "\n",
    "with profiler: # ensures that the profiler is active during the execution block if enabled\n",
    "    # Create Trainer instance\n",
    "    trainer = Trainer(\n",
    "        model=model, # model to be trained\n",
    "        args=training_args, #  training arguments configured earlier\n",
    "        train_dataset=tokenized_train_dataset,\n",
    "        eval_dataset= tokenized_validate_dataset,\n",
    "        data_collator=DataCollatorForLanguageModeling(tokenizer, mlm=False), # mlm=False indicates that it's not using masked language modeling\n",
    "        callbacks=[profiler_callback] if enable_profiler else [], # a list of callbacks to be used during training. If profiling is enabled, the profiler_callback is included, which will manage step-wise profiling\n",
    "    )\n",
    "    # Start training\n",
    "    trainer.train() # starts the training process according to the specified arguments and setup.\n",
    "\n",
    "    "
   ]
  },
  {
   "cell_type": "markdown",
   "metadata": {},
   "source": [
    "## Wrap-up"
   ]
  },
  {
   "cell_type": "code",
   "execution_count": 15,
   "metadata": {},
   "outputs": [
    {
     "data": {
      "text/plain": [
       "('../models/13Bf_finetuned1.0/tokenizer_config.json',\n",
       " '../models/13Bf_finetuned1.0/special_tokens_map.json',\n",
       " '../models/13Bf_finetuned1.0/tokenizer.model',\n",
       " '../models/13Bf_finetuned1.0/added_tokens.json')"
      ]
     },
     "execution_count": 15,
     "metadata": {},
     "output_type": "execute_result"
    }
   ],
   "source": [
    "# merge the weights, otherwise it will only save as lora weights, which llama.cpp does not support atm\n",
    "model = model.merge_and_unload()\n",
    "# save the model\n",
    "model.save_pretrained(\"../models/13Bf_finetuned2.0\")\n",
    "tokenizer.save_pretrained(\"../models/13Bf_finetuned2.0\")"
   ]
  },
  {
   "cell_type": "code",
   "execution_count": 17,
   "metadata": {},
   "outputs": [
    {
     "name": "stderr",
     "output_type": "stream",
     "text": [
      "Setting `pad_token_id` to `eos_token_id`:2 for open-end generation.\n"
     ]
    },
    {
     "name": "stdout",
     "output_type": "stream",
     "text": [
      "<<SYS>>\n",
      "Pretend you are a philosopher analyzing comments to determine if they express a belief. Define 'belief' as the mental attitude where something is regarded as true, without needing active reflection or evidence.\n",
      "For each statement, ask:\n",
      "1. Does this imply the subject regards something as true?\n",
      "2. Is there an implicit acceptance of truth?\n",
      "Classify as 'belief' if either condition is met, otherwise as 'non-belief'. Make sure to return results as JSON objects with the original statement and classification.\n",
      "<</SYS>>\n",
      "\n",
      "[INST] Text: he loaded his car up with petrol\n",
      "Make sure to return results as JSON objects with the original statement and classification\n",
      "[/INST]\n",
      "Non-belief.\n",
      "\n",
      "There is no implicit acceptance of truth, as the statement describes an action (loading a car with petrol) rather than expressing a belief.\n"
     ]
    }
   ],
   "source": [
    "# Evaluate the new model\n",
    "eval_prompt = f\"\"\"<<SYS>>{sys_prompt}<</SYS>>\n",
    "\n",
    "[INST] Text: {tokenized_validate_dataset[2]['input']}[/INST]\n",
    "\"\"\"\n",
    "\n",
    "model_input = tokenizer(eval_prompt, return_tensors=\"pt\").to(\"cuda\")\n",
    "\n",
    "model.eval()\n",
    "with torch.no_grad():\n",
    "    print(tokenizer.decode(model.generate(**model_input, max_new_tokens=1000)[0], skip_special_tokens=True))"
   ]
  },
  {
   "cell_type": "code",
   "execution_count": 20,
   "metadata": {},
   "outputs": [
    {
     "name": "stderr",
     "output_type": "stream",
     "text": [
      "Setting `pad_token_id` to `eos_token_id`:2 for open-end generation.\n"
     ]
    },
    {
     "name": "stdout",
     "output_type": "stream",
     "text": [
      "{\n",
      "    \"original_text\": \"he loaded his car up with petrol\",\n",
      "    \"classification\": \"non-belief\",\n",
      "    \"justification\": \"The statement does not imply the subject regards something as true, and there is no implicit acceptance of truth. The statement simply describes an action (loading a car with petrol) without expressing any belief or acceptance of truth.\"\n",
      "}\n"
     ]
    }
   ],
   "source": [
    "\n",
    "instance = tokenized_validate_dataset[2]\n",
    "eval_prompt = f\"\"\"<<SYS>>{sys_prompt}<</SYS>>\n",
    "\n",
    "[INST]Text: {instance['input']}[/INST]\n",
    "\"\"\"\n",
    "model.eval() # put the model in evaluation mode\n",
    "\n",
    "\n",
    "# tokenize the prompt\n",
    "model_input = tokenizer(eval_prompt, return_tensors=\"pt\").to(\"cuda\")\n",
    "\n",
    "# generate a response without gradient calculations\n",
    "with torch.no_grad():\n",
    "    output = model.generate(**model_input, max_new_tokens=1000)[0]\n",
    "    decoded_output = tokenizer.decode(output, skip_special_tokens=True)\n",
    " \n",
    "    classification = decoded_output.split('Output: ')[1].split('\\n')[0].strip() # the classification and justification from the output\n",
    "    justification = decoded_output.split('Justification: ')[1].strip() # the format \"Output: [classification]\\nJustification: [justification]\"\n",
    "\n",
    "    # Create a JSON object with the original text, classification, and justification\n",
    "    result = {\n",
    "        \"original_text\": instance['input'],\n",
    "        \"classification\": classification,\n",
    "        \"justification\": justification\n",
    "    }\n",
    "    print(json.dumps(result, indent=4))\n"
   ]
  }
 ],
 "metadata": {
  "kernelspec": {
   "display_name": "Python 3 (ipykernel)",
   "language": "python",
   "name": "python3"
  },
  "language_info": {
   "codemirror_mode": {
    "name": "ipython",
    "version": 3
   },
   "file_extension": ".py",
   "mimetype": "text/x-python",
   "name": "python",
   "nbconvert_exporter": "python",
   "pygments_lexer": "ipython3",
   "version": "3.9.18"
  }
 },
 "nbformat": 4,
 "nbformat_minor": 2
}
